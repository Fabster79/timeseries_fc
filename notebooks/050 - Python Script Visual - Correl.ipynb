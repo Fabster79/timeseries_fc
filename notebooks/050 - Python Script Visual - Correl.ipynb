{
 "cells": [
  {
   "cell_type": "code",
   "execution_count": 2,
   "metadata": {},
   "outputs": [],
   "source": [
    "import numpy as np\n",
    "import pandas as pd\n",
    "\n",
    "import matplotlib.pyplot as plt\n",
    "#%matplotlib inline\n",
    "\n",
    "from statsmodels.tsa.stattools import kpss,adfuller\n",
    "from statsmodels.graphics.tsaplots import plot_acf\n",
    "from statsmodels.graphics.tsaplots import plot_pacf\n",
    "\n",
    "from statsmodels.tsa.arima.model import ARIMA   "
   ]
  },
  {
   "cell_type": "code",
   "execution_count": 6,
   "metadata": {},
   "outputs": [],
   "source": [
    "# importing train data to learn\n",
    "train = pd.read_csv(\"../data/store_sales_train.csv\", \n",
    "                    parse_dates = True, low_memory = False, index_col = 'Date')\n",
    "\n",
    "# additional store data\n",
    "store = pd.read_csv(\"../data/store_data.csv\", \n",
    "                    low_memory = False)"
   ]
  },
  {
   "cell_type": "code",
   "execution_count": 7,
   "metadata": {},
   "outputs": [
    {
     "ename": "NameError",
     "evalue": "name 'train_store' is not defined",
     "output_type": "error",
     "traceback": [
      "\u001b[1;31m---------------------------------------------------------------------------\u001b[0m",
      "\u001b[1;31mNameError\u001b[0m                                 Traceback (most recent call last)",
      "Cell \u001b[1;32mIn[7], line 2\u001b[0m\n\u001b[0;32m      1\u001b[0m \u001b[38;5;66;03m# competition open time (in months)\u001b[39;00m\n\u001b[1;32m----> 2\u001b[0m train_store[\u001b[38;5;124m'\u001b[39m\u001b[38;5;124mCompetitionOpen\u001b[39m\u001b[38;5;124m'\u001b[39m] \u001b[38;5;241m=\u001b[39m \u001b[38;5;241m12\u001b[39m \u001b[38;5;241m*\u001b[39m (\u001b[43mtrain_store\u001b[49m\u001b[38;5;241m.\u001b[39mYear \u001b[38;5;241m-\u001b[39m train_store\u001b[38;5;241m.\u001b[39mCompetitionOpenSinceYear) \u001b[38;5;241m+\u001b[39m \\\n\u001b[0;32m      3\u001b[0m         (train_store\u001b[38;5;241m.\u001b[39mMonth \u001b[38;5;241m-\u001b[39m train_store\u001b[38;5;241m.\u001b[39mCompetitionOpenSinceMonth)\n\u001b[0;32m      5\u001b[0m \u001b[38;5;66;03m# Promo open time\u001b[39;00m\n\u001b[0;32m      6\u001b[0m train_store[\u001b[38;5;124m'\u001b[39m\u001b[38;5;124mPromoOpen\u001b[39m\u001b[38;5;124m'\u001b[39m] \u001b[38;5;241m=\u001b[39m \u001b[38;5;241m12\u001b[39m \u001b[38;5;241m*\u001b[39m (train_store\u001b[38;5;241m.\u001b[39mYear \u001b[38;5;241m-\u001b[39m train_store\u001b[38;5;241m.\u001b[39mPromo2SinceYear) \u001b[38;5;241m+\u001b[39m \\\n\u001b[0;32m      7\u001b[0m         (train_store\u001b[38;5;241m.\u001b[39mWeekOfYear \u001b[38;5;241m-\u001b[39m train_store\u001b[38;5;241m.\u001b[39mPromo2SinceWeek) \u001b[38;5;241m/\u001b[39m \u001b[38;5;241m4.0\u001b[39m\n",
      "\u001b[1;31mNameError\u001b[0m: name 'train_store' is not defined"
     ]
    }
   ],
   "source": [
    "# competition open time (in months)\n",
    "train_store['CompetitionOpen'] = 12 * (train_store.Year - train_store.CompetitionOpenSinceYear) + \\\n",
    "        (train_store.Month - train_store.CompetitionOpenSinceMonth)\n",
    "    \n",
    "# Promo open time\n",
    "train_store['PromoOpen'] = 12 * (train_store.Year - train_store.Promo2SinceYear) + \\\n",
    "        (train_store.WeekOfYear - train_store.Promo2SinceWeek) / 4.0\n",
    "\n",
    "# replace NA's by 0\n",
    "train_store.fillna(0, inplace = True)\n",
    "\n",
    "# average PromoOpen time and CompetitionOpen time per store type\n",
    "train_store.loc[:, ['StoreType', 'Sales', 'Customers', 'PromoOpen', 'CompetitionOpen']].groupby('StoreType').mean()"
   ]
  },
  {
   "cell_type": "code",
   "execution_count": 4,
   "metadata": {},
   "outputs": [
    {
     "ename": "NameError",
     "evalue": "name 'train_store' is not defined",
     "output_type": "error",
     "traceback": [
      "\u001b[1;31m---------------------------------------------------------------------------\u001b[0m",
      "\u001b[1;31mNameError\u001b[0m                                 Traceback (most recent call last)",
      "Cell \u001b[1;32mIn[4], line 3\u001b[0m\n\u001b[0;32m      1\u001b[0m \u001b[38;5;66;03m# Compute the correlation matrix \u001b[39;00m\n\u001b[0;32m      2\u001b[0m \u001b[38;5;66;03m# exclude 'Open' variable\u001b[39;00m\n\u001b[1;32m----> 3\u001b[0m corr_all \u001b[38;5;241m=\u001b[39m \u001b[43mtrain_store\u001b[49m\u001b[38;5;241m.\u001b[39mdrop(\u001b[38;5;124m'\u001b[39m\u001b[38;5;124mOpen\u001b[39m\u001b[38;5;124m'\u001b[39m, axis \u001b[38;5;241m=\u001b[39m \u001b[38;5;241m1\u001b[39m)\u001b[38;5;241m.\u001b[39mcorr()\n\u001b[0;32m      5\u001b[0m \u001b[38;5;66;03m# Generate a mask for the upper triangle\u001b[39;00m\n\u001b[0;32m      6\u001b[0m mask \u001b[38;5;241m=\u001b[39m np\u001b[38;5;241m.\u001b[39mzeros_like(corr_all, dtype \u001b[38;5;241m=\u001b[39m np\u001b[38;5;241m.\u001b[39mbool)\n",
      "\u001b[1;31mNameError\u001b[0m: name 'train_store' is not defined"
     ]
    }
   ],
   "source": [
    "# Compute the correlation matrix \n",
    "# exclude 'Open' variable\n",
    "corr_all = train_store.drop('Open', axis = 1).corr()\n",
    "\n",
    "# Generate a mask for the upper triangle\n",
    "mask = np.zeros_like(corr_all, dtype = np.bool)\n",
    "mask[np.triu_indices_from(mask)] = True\n",
    "\n",
    "# Set up the matplotlib figure\n",
    "f, ax = plt.subplots(figsize = (11, 9))\n",
    "\n",
    "# Draw the heatmap with the mask and correct aspect ratio\n",
    "sns.heatmap(corr_all, mask = mask,\n",
    "            square = True, linewidths = .5, ax = ax, cmap = \"BuPu\")      \n",
    "plt.show()"
   ]
  }
 ],
 "metadata": {
  "kernelspec": {
   "display_name": "timeseries_lib",
   "language": "python",
   "name": "python3"
  },
  "language_info": {
   "codemirror_mode": {
    "name": "ipython",
    "version": 3
   },
   "file_extension": ".py",
   "mimetype": "text/x-python",
   "name": "python",
   "nbconvert_exporter": "python",
   "pygments_lexer": "ipython3",
   "version": "3.11.4"
  }
 },
 "nbformat": 4,
 "nbformat_minor": 2
}
